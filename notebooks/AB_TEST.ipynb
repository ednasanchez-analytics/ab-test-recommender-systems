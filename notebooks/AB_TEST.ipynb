{
 "cells": [
  {
   "cell_type": "markdown",
   "metadata": {},
   "source": [
    "# Hola &#x1F600;,\n",
    "\n",
    "Soy **Hesus Garcia** – **\"Soy el único Hesus que conoces (y probablemente conocerás) 🌟\"** – Sí, como \"Jesús\", pero con una H que me hace único. Puede sonar raro, pero créeme, ¡no lo olvidarás! Como tu revisor en Triple-Ten, estoy aquí para guiarte y ayudarte a mejorar tu código. Si algo necesita un ajuste, no hay de qué preocuparse; ¡aquí estoy para hacer que tu trabajo brille con todo su potencial! ✨\n",
    "\n",
    "Cada vez que encuentre un detalle importante en tu código, te lo señalaré para que puedas corregirlo y así te prepares para un ambiente de trabajo real, donde el líder de tu equipo actuaría de manera similar. Si en algún momento no logras solucionar el problema, te daré más detalles para ayudarte en nuestra próxima oportunidad de revisión.\n",
    "\n",
    "Es importante que cuando encuentres un comentario, **no los muevas, no los modifiques, ni los borres**.\n",
    "\n",
    "---\n",
    "\n",
    "### Formato de Comentarios\n",
    "\n",
    "Revisaré cuidadosamente cada implementación en tu notebook para asegurar que cumpla con los requisitos y te daré comentarios de acuerdo al siguiente formato:\n",
    "\n",
    "\n",
    "<div class=\"alert alert-block alert-success\">\n",
    "<b>Comentario del revisor</b> <a class=\"tocSkip\"></a><br>\n",
    "    \n",
    "<b>Éxito</b> - ¡Excelente trabajo! Esta parte está bien implementada y contribuye significativamente al análisis de datos o al proyecto. Continúa aplicando estas buenas prácticas en futuras secciones.\n",
    "    \n",
    "</div>\n",
    "\n",
    "<div class=\"alert alert-block alert-warning\">\n",
    "<b>Comentario del revisor</b> <a class=\"tocSkip\"></a><br>\n",
    "    \n",
    "<b>Atención</b> ⚠️ - Este código está correcto, pero se puede optimizar. Considera implementar mejoras para que sea más eficiente y fácil de leer. Esto fortalecerá la calidad de tu proyecto.\n",
    "    \n",
    "</div>\n",
    "\n",
    "<div class=\"alert alert-block alert-danger\">\n",
    "<b>Comentario del revisor</b> <a class=\"tocSkip\"></a><br>\n",
    "    \n",
    "<b>A resolver</b> ❗ - Aquí hay un problema o error en el código que es necesario corregir para aprobar esta sección. Por favor, revisa y corrige este punto, ya que es fundamental para la validez del análisis y la precisión de los resultados.\n",
    "    \n",
    "</div>\n",
    "\n",
    "---\n",
    "\n",
    "Al final de cada revisión, recibirás un **Comentario General del Revisor** que incluirá:\n",
    "\n",
    "- **Aspectos positivos:** Un resumen de los puntos fuertes de tu proyecto.\n",
    "- **Áreas de mejora:** Sugerencias sobre aspectos donde puedes mejorar.\n",
    "- **Temas adicionales para investigar:** Ideas de temas opcionales que puedes explorar por tu cuenta para desarrollar aún más tus habilidades.\n",
    "\n",
    "Estos temas adicionales no son obligatorios en esta etapa, pero pueden serte útiles para profundizar en el futuro.\n",
    "\n",
    "---\n",
    "\n",
    "\n",
    "Esta estructura en viñetas facilita la lectura y comprensión de cada parte del comentario final.\n",
    "\n",
    "También puedes responderme de la siguiente manera si tienes alguna duda o quieres aclarar algo específico:\n",
    "\n",
    "\n",
    "<div class=\"alert alert-block alert-info\">\n",
    "<b>Respuesta del estudiante</b> <a class=\"tocSkip\"></a>\n",
    "    \n",
    "Aquí puedes escribir tu respuesta o pregunta sobre el comentario.\n",
    "    \n",
    "</div>\n",
    "\n",
    "\n",
    "**¡Empecemos!** &#x1F680;\n",
    "\n",
    "\n",
    "\n",
    "\n",
    "\n",
    "\n",
    "\n",
    "\n",
    "\n",
    "\n",
    "\n",
    "\n"
   ]
  },
  {
   "cell_type": "markdown",
   "metadata": {},
   "source": [
    "# 🧪 Proyecto A/B Testing – TripleTen\n",
    "\n",
    "## Evaluación del sistema de recomendaciones en tienda en línea\n",
    "\n",
    "👤 **Nombre:** Edna Sánchez  \n",
    "📅 **Fecha de entrega:** Junio 2025\n",
    "\n",
    "---\n",
    "\n",
    "### 🎯 Objetivo del Proyecto\n",
    "\n",
    "Evaluar el impacto de un nuevo sistema de recomendaciones (Grupo B) frente al sistema actual (Grupo A) en una tienda online de la región de la UE.\n",
    "\n",
    "La métrica principal es la mejora de la conversión en tres eventos del embudo:\n",
    "\n",
    "- `product_page`\n",
    "- `product_cart`\n",
    "- `purchase`\n",
    "\n",
    "Se espera un aumento del **10% o más** en cada etapa para considerar exitoso el experimento.\n",
    "\n",
    "---\n",
    "\n",
    "### 📁 Datasets Utilizados\n",
    "\n",
    "| Archivo                                  | Descripción |\n",
    "|------------------------------------------|-------------|\n",
    "| `final_ab_events_upd_us.csv`             | Eventos registrados de los usuarios (product_page, cart, purchase) |\n",
    "| `final_ab_new_users_upd_us.csv`          | Nuevos usuarios registrados entre el 7 y 21 de diciembre |\n",
    "| `final_ab_participants_upd_us.csv`       | Participantes asignados a los grupos A y B |\n",
    "| `ab_project_marketing_events_us.csv`     | Campañas de marketing realizadas durante el experimento (solo contextual) |\n",
    "\n",
    "---\n"
   ]
  },
  {
   "cell_type": "markdown",
   "metadata": {},
   "source": [
    "## 📥 1. Importación de datos\n",
    "\n",
    "Comenzamos cargando los archivos de datos necesarios para la prueba A/B. Validaremos su estructura para asegurar que todo esté correcto.\n",
    "\n",
    "### Archivos utilizados:\n",
    "- `ab_project_marketing_events_us.csv`: calendario de eventos de marketing.\n",
    "- `final_ab_events_upd_us.csv`: eventos generados por usuarios.\n",
    "- `final_ab_new_users_upd_us.csv`: usuarios nuevos registrados.\n",
    "- `final_ab_participants_upd_us.csv`: asignación de usuarios a grupos de prueba.\n"
   ]
  },
  {
   "cell_type": "code",
   "execution_count": 1,
   "metadata": {},
   "outputs": [
    {
     "name": "stdout",
     "output_type": "stream",
     "text": [
      "🗃️ Eventos:\n",
      "<class 'pandas.core.frame.DataFrame'>\n",
      "RangeIndex: 423761 entries, 0 to 423760\n",
      "Data columns (total 4 columns):\n",
      " #   Column      Non-Null Count   Dtype  \n",
      "---  ------      --------------   -----  \n",
      " 0   user_id     423761 non-null  object \n",
      " 1   event_dt    423761 non-null  object \n",
      " 2   event_name  423761 non-null  object \n",
      " 3   details     60314 non-null   float64\n",
      "dtypes: float64(1), object(3)\n",
      "memory usage: 12.9+ MB\n",
      "None \n",
      "\n",
      "🧑 Nuevos usuarios:\n",
      "<class 'pandas.core.frame.DataFrame'>\n",
      "RangeIndex: 58703 entries, 0 to 58702\n",
      "Data columns (total 4 columns):\n",
      " #   Column      Non-Null Count  Dtype \n",
      "---  ------      --------------  ----- \n",
      " 0   user_id     58703 non-null  object\n",
      " 1   first_date  58703 non-null  object\n",
      " 2   region      58703 non-null  object\n",
      " 3   device      58703 non-null  object\n",
      "dtypes: object(4)\n",
      "memory usage: 1.8+ MB\n",
      "None \n",
      "\n",
      "🧪 Participantes:\n",
      "<class 'pandas.core.frame.DataFrame'>\n",
      "RangeIndex: 14525 entries, 0 to 14524\n",
      "Data columns (total 3 columns):\n",
      " #   Column   Non-Null Count  Dtype \n",
      "---  ------   --------------  ----- \n",
      " 0   user_id  14525 non-null  object\n",
      " 1   group    14525 non-null  object\n",
      " 2   ab_test  14525 non-null  object\n",
      "dtypes: object(3)\n",
      "memory usage: 340.6+ KB\n",
      "None \n",
      "\n"
     ]
    }
   ],
   "source": [
    "import pandas as pd\n",
    "\n",
    "# Intento de carga\n",
    "try:\n",
    "    marketing_events = pd.read_csv('/datasets/ab_project_marketing_events_us.csv')\n",
    "except Exception as e:\n",
    "    print(\"❌ Error cargando marketing_events:\", e)\n",
    "\n",
    "# Cargar los demás\n",
    "events = pd.read_csv('/datasets/final_ab_events_upd_us.csv')\n",
    "new_users = pd.read_csv('/datasets/final_ab_new_users_upd_us.csv')\n",
    "participants = pd.read_csv('/datasets/final_ab_participants_upd_us.csv')\n",
    "\n",
    "# Verificamos estructura básica\n",
    "print(\"🗃️ Eventos:\")\n",
    "print(events.info(), '\\n')\n",
    "\n",
    "print(\"🧑 Nuevos usuarios:\")\n",
    "print(new_users.info(), '\\n')\n",
    "\n",
    "print(\"🧪 Participantes:\")\n",
    "print(participants.info(), '\\n')\n"
   ]
  },
  {
   "cell_type": "markdown",
   "metadata": {},
   "source": [
    "## 🧹 2. Preprocesamiento de Datos\n",
    "\n",
    "Revisamos:\n",
    "- Tipos de datos y conversiones necesarias\n",
    "- Valores nulos o faltantes\n",
    "- Duplicados\n",
    "- Rangos y consistencia en las fechas\n",
    "\n",
    "Además, convertiremos los datos de fecha a formato datetime y revisaremos la validez del periodo de prueba.\n"
   ]
  },
  {
   "cell_type": "code",
   "execution_count": 2,
   "metadata": {},
   "outputs": [
    {
     "name": "stdout",
     "output_type": "stream",
     "text": [
      "📆 Eventos desde: 2020-12-07 00:00:33 hasta: 2020-12-30 23:36:33\n",
      "📆 Registros de nuevos usuarios desde: 2020-12-07 00:00:00 hasta: 2020-12-23 00:00:00\n",
      "\n",
      "🔍 Valores nulos por dataset:\n",
      "Events:\n",
      " user_id            0\n",
      "event_dt           0\n",
      "event_name         0\n",
      "details       363447\n",
      "dtype: int64 \n",
      "\n",
      "New Users:\n",
      " user_id       0\n",
      "first_date    0\n",
      "region        0\n",
      "device        0\n",
      "dtype: int64 \n",
      "\n",
      "Participants:\n",
      " user_id    0\n",
      "group      0\n",
      "ab_test    0\n",
      "dtype: int64 \n",
      "\n",
      "📑 Duplicados:\n",
      "Events: 0\n",
      "New Users: 0\n",
      "Participants: 0\n"
     ]
    }
   ],
   "source": [
    "# Copia de seguridad de los datos originales\n",
    "events_raw = events.copy()\n",
    "new_users_raw = new_users.copy()\n",
    "participants_raw = participants.copy()\n",
    "\n",
    "# Convertimos fechas a datetime\n",
    "events['event_dt'] = pd.to_datetime(events['event_dt'])\n",
    "new_users['first_date'] = pd.to_datetime(new_users['first_date'])\n",
    "\n",
    "# Verificamos rangos de fechas\n",
    "print(\"📆 Eventos desde:\", events['event_dt'].min(), \"hasta:\", events['event_dt'].max())\n",
    "print(\"📆 Registros de nuevos usuarios desde:\", new_users['first_date'].min(), \"hasta:\", new_users['first_date'].max())\n",
    "\n",
    "# Revisamos valores nulos\n",
    "print(\"\\n🔍 Valores nulos por dataset:\")\n",
    "print(\"Events:\\n\", events.isna().sum(), '\\n')\n",
    "print(\"New Users:\\n\", new_users.isna().sum(), '\\n')\n",
    "print(\"Participants:\\n\", participants.isna().sum(), '\\n')\n",
    "\n",
    "# Revisamos duplicados\n",
    "print(\"📑 Duplicados:\")\n",
    "print(\"Events:\", events.duplicated().sum())\n",
    "print(\"New Users:\", new_users.duplicated().sum())\n",
    "print(\"Participants:\", participants.duplicated().sum())\n"
   ]
  },
  {
   "cell_type": "markdown",
   "metadata": {},
   "source": [
    "## 🔎 3. Validación del Rango de Fechas y Filtro de Usuarios\n",
    "\n",
    "Vamos a:\n",
    "- Confirmar que todos los usuarios en el grupo A/B se registraron dentro del periodo oficial del experimento.\n",
    "- Asegurar que ningún usuario esté presente en ambos grupos.\n",
    "- Filtrar únicamente a los usuarios relevantes para la prueba A/B.\n"
   ]
  },
  {
   "cell_type": "code",
   "execution_count": 3,
   "metadata": {},
   "outputs": [
    {
     "name": "stdout",
     "output_type": "stream",
     "text": [
      "📊 Participantes válidos por grupo:\n",
      "A    7725\n",
      "B    5798\n",
      "Name: group, dtype: int64\n",
      "\n",
      "❗ Usuarios presentes en ambos grupos (esperado: 0): 887\n"
     ]
    }
   ],
   "source": [
    "# Periodo oficial del experimento\n",
    "start_date = pd.to_datetime('2020-12-07')\n",
    "cutoff_date = pd.to_datetime('2020-12-21')\n",
    "\n",
    "# Filtramos usuarios registrados en el periodo de prueba\n",
    "valid_users = new_users.query('first_date >= @start_date and first_date <= @cutoff_date')\n",
    "\n",
    "# Filtramos participantes que realmente entraron en el experimento\n",
    "participants_filtered = participants[participants['user_id'].isin(valid_users['user_id'])]\n",
    "\n",
    "# Revisamos cantidad de usuarios por grupo\n",
    "print(\"📊 Participantes válidos por grupo:\")\n",
    "print(participants_filtered['group'].value_counts())\n",
    "\n",
    "# Verificamos si algún usuario está en ambos grupos (NO debería ocurrir)\n",
    "duplicated_users = participants_filtered.duplicated(subset='user_id', keep=False)\n",
    "users_in_both_groups = participants_filtered[duplicated_users]\n",
    "\n",
    "print(\"\\n❗ Usuarios presentes en ambos grupos (esperado: 0):\", users_in_both_groups['user_id'].nunique())\n"
   ]
  },
  {
   "cell_type": "markdown",
   "metadata": {},
   "source": [
    "## 🔧 4. Limpieza de Participantes con Doble Asignación\n",
    "\n",
    "Se detectaron **887 usuarios** asignados simultáneamente a ambos grupos A y B, lo cual rompe el supuesto de exclusividad en pruebas A/B. Procedemos a eliminarlos del análisis para mantener la validez estadística.\n"
   ]
  },
  {
   "cell_type": "code",
   "execution_count": 4,
   "metadata": {
    "scrolled": true
   },
   "outputs": [
    {
     "name": "stdout",
     "output_type": "stream",
     "text": [
      "✅ Participantes por grupo (después de limpieza):\n",
      "A    6604\n",
      "B    5145\n",
      "Name: group, dtype: int64\n",
      "\n",
      "✅ Total usuarios excluidos por doble asignación: 887\n"
     ]
    }
   ],
   "source": [
    "# Detectamos los user_id duplicados (que aparecen en más de un grupo)\n",
    "duplicated_ids = participants_filtered['user_id'][participants_filtered.duplicated('user_id', keep=False)]\n",
    "\n",
    "# Filtramos los participantes excluyendo los duplicados\n",
    "clean_participants = participants_filtered[~participants_filtered['user_id'].isin(duplicated_ids)]\n",
    "\n",
    "# Validamos los resultados\n",
    "print(\"✅ Participantes por grupo (después de limpieza):\")\n",
    "print(clean_participants['group'].value_counts())\n",
    "\n",
    "print(\"\\n✅ Total usuarios excluidos por doble asignación:\", len(duplicated_ids.unique()))\n"
   ]
  },
  {
   "cell_type": "markdown",
   "metadata": {},
   "source": [
    "<div class=\"alert alert-block alert-success\">\n",
    "<b>Comentario del revisor</b> <a class=\"tocSkip\"></a><br>\n",
    "\n",
    "<b>Éxito</b> - Muy buena implementación para detectar y eliminar usuarios duplicados. Este paso es esencial para asegurar la independencia de los grupos. Claridad en los prints y seguimiento del conteo de participantes limpian adecuadamente el experimento.\n",
    "\n",
    "</div>"
   ]
  },
  {
   "cell_type": "markdown",
   "metadata": {},
   "source": [
    "## 🔗 5. Integración de Datos\n",
    "\n",
    "Ahora que hemos limpiado los datos y eliminado a los usuarios con asignación duplicada, filtramos los eventos para quedarnos solo con aquellos realizados por usuarios válidos en el test. Luego, agregamos la información del grupo (A o B) a cada uno de estos eventos.\n"
   ]
  },
  {
   "cell_type": "code",
   "execution_count": 5,
   "metadata": {},
   "outputs": [
    {
     "name": "stdout",
     "output_type": "stream",
     "text": [
      "📌 Eventos después de filtrado: 85902\n",
      "👀 Eventos por grupo:\n",
      "A    48625\n",
      "B    37277\n",
      "Name: group, dtype: int64\n"
     ]
    }
   ],
   "source": [
    "# Filtrar eventos para incluir solo los de usuarios que participaron correctamente en el experimento\n",
    "valid_events = events[events['user_id'].isin(clean_participants['user_id'])]\n",
    "\n",
    "# Unir información del grupo A o B a cada evento\n",
    "merged_data = valid_events.merge(clean_participants[['user_id', 'group']], on='user_id', how='left')\n",
    "\n",
    "# Verificamos que todo esté bien\n",
    "print(\"📌 Eventos después de filtrado:\", merged_data.shape[0])\n",
    "print(\"👀 Eventos por grupo:\")\n",
    "print(merged_data['group'].value_counts())\n"
   ]
  },
  {
   "cell_type": "markdown",
   "metadata": {},
   "source": [
    "<div class=\"alert alert-block alert-success\">\n",
    "<b>Comentario del revisor</b> <a class=\"tocSkip\"></a><br>\n",
    "\n",
    "<b>Éxito</b> - Integraste correctamente los datasets y filtraste solo los eventos de usuarios válidos. Esto garantiza que las comparaciones de métricas se basen en datos limpios y bien contextualizados. Muy buena estructura y legibilidad del código.\n",
    "\n",
    "</div>"
   ]
  },
  {
   "cell_type": "markdown",
   "metadata": {},
   "source": [
    "## 🧪 6. Análisis del Embudo de Conversión\n",
    "\n",
    "Analizaremos las tasas de conversión de los usuarios en tres etapas clave:\n",
    "\n",
    "- `product_page` → vista de producto\n",
    "- `product_cart` → añadir al carrito\n",
    "- `purchase` → compra\n",
    "\n",
    "Comparamos las tasas de conversión por grupo (A vs B) para evaluar el impacto del nuevo sistema de recomendaciones.\n"
   ]
  },
  {
   "cell_type": "code",
   "execution_count": 6,
   "metadata": {},
   "outputs": [
    {
     "data": {
      "text/html": [
       "<div>\n",
       "<style scoped>\n",
       "    .dataframe tbody tr th:only-of-type {\n",
       "        vertical-align: middle;\n",
       "    }\n",
       "\n",
       "    .dataframe tbody tr th {\n",
       "        vertical-align: top;\n",
       "    }\n",
       "\n",
       "    .dataframe thead th {\n",
       "        text-align: right;\n",
       "    }\n",
       "</style>\n",
       "<table border=\"1\" class=\"dataframe\">\n",
       "  <thead>\n",
       "    <tr style=\"text-align: right;\">\n",
       "      <th>event_name</th>\n",
       "      <th>product_cart</th>\n",
       "      <th>product_page</th>\n",
       "      <th>purchase</th>\n",
       "      <th>total_users</th>\n",
       "      <th>product_page_conversion</th>\n",
       "      <th>product_cart_conversion</th>\n",
       "      <th>purchase_conversion</th>\n",
       "    </tr>\n",
       "    <tr>\n",
       "      <th>group</th>\n",
       "      <th></th>\n",
       "      <th></th>\n",
       "      <th></th>\n",
       "      <th></th>\n",
       "      <th></th>\n",
       "      <th></th>\n",
       "      <th></th>\n",
       "    </tr>\n",
       "  </thead>\n",
       "  <tbody>\n",
       "    <tr>\n",
       "      <th>A</th>\n",
       "      <td>2110</td>\n",
       "      <td>4391</td>\n",
       "      <td>2264</td>\n",
       "      <td>6604</td>\n",
       "      <td>0.6649</td>\n",
       "      <td>0.3195</td>\n",
       "      <td>0.3428</td>\n",
       "    </tr>\n",
       "    <tr>\n",
       "      <th>B</th>\n",
       "      <td>1711</td>\n",
       "      <td>3311</td>\n",
       "      <td>1677</td>\n",
       "      <td>5145</td>\n",
       "      <td>0.6435</td>\n",
       "      <td>0.3326</td>\n",
       "      <td>0.3259</td>\n",
       "    </tr>\n",
       "  </tbody>\n",
       "</table>\n",
       "</div>"
      ],
      "text/plain": [
       "event_name  product_cart  product_page  purchase  total_users  \\\n",
       "group                                                           \n",
       "A                   2110          4391      2264         6604   \n",
       "B                   1711          3311      1677         5145   \n",
       "\n",
       "event_name  product_page_conversion  product_cart_conversion  \\\n",
       "group                                                          \n",
       "A                            0.6649                   0.3195   \n",
       "B                            0.6435                   0.3326   \n",
       "\n",
       "event_name  purchase_conversion  \n",
       "group                            \n",
       "A                        0.3428  \n",
       "B                        0.3259  "
      ]
     },
     "metadata": {},
     "output_type": "display_data"
    }
   ],
   "source": [
    "# Lista de eventos clave\n",
    "events_funnel = ['product_page', 'product_cart', 'purchase']\n",
    "\n",
    "# Número de usuarios únicos por grupo y evento\n",
    "funnel = merged_data[merged_data['event_name'].isin(events_funnel)] \\\n",
    "    .groupby(['group', 'event_name'])['user_id'].nunique() \\\n",
    "    .unstack().fillna(0)\n",
    "\n",
    "# Agregar número total de usuarios por grupo\n",
    "funnel['total_users'] = clean_participants.groupby('group')['user_id'].nunique()\n",
    "\n",
    "# Calcular tasas de conversión\n",
    "for event in events_funnel:\n",
    "    funnel[f'{event}_conversion'] = funnel[event] / funnel['total_users']\n",
    "\n",
    "# Redondear para visualizar mejor\n",
    "funnel = funnel.round(4)\n",
    "\n",
    "display(funnel)\n"
   ]
  },
  {
   "cell_type": "markdown",
   "metadata": {},
   "source": [
    "<div class=\"alert alert-block alert-success\">\n",
    "<b>Comentario del revisor</b> <a class=\"tocSkip\"></a><br>\n",
    "\n",
    "<b>Éxito</b> - Excelente diseño del embudo. Calculaste conversiones por etapa con claridad y aplicaste proporciones en función del total de usuarios, no de eventos, lo cual es correcto. Bien redondeado para facilitar la lectura. Buena práctica incluir todos los eventos relevantes.\n",
    "\n",
    "</div>"
   ]
  },
  {
   "cell_type": "markdown",
   "metadata": {},
   "source": [
    "## 📊 7. Prueba de Hipótesis – Z-Test para Proporciones\n",
    "\n",
    "Realizaremos una prueba de hipótesis para determinar si las diferencias observadas en las tasas de conversión entre los grupos A y B son estadísticamente significativas.\n",
    "\n",
    "- **H₀ (nula)**: No hay diferencia significativa entre los grupos.\n",
    "- **H₁ (alternativa)**: Hay diferencia significativa en las conversiones.\n",
    "\n",
    "Nivel de significancia: α = 0.05\n"
   ]
  },
  {
   "cell_type": "code",
   "execution_count": 7,
   "metadata": {},
   "outputs": [
    {
     "name": "stdout",
     "output_type": "stream",
     "text": [
      "PRODUCT_PAGE: Z = 2.4176, p = 0.0156\n",
      "PRODUCT_CART: Z = -1.4984, p = 0.134\n",
      "PURCHASE: Z = 1.9221, p = 0.0546\n"
     ]
    }
   ],
   "source": [
    "from statsmodels.stats.proportion import proportions_ztest\n",
    "\n",
    "# Función para hacer Z-test\n",
    "def z_test(success_a, size_a, success_b, size_b):\n",
    "    count = [success_a, success_b]\n",
    "    nobs = [size_a, size_b]\n",
    "    stat, pval = proportions_ztest(count, nobs)\n",
    "    return round(stat, 4), round(pval, 4)\n",
    "\n",
    "# Resultados de prueba por etapa\n",
    "tests = {}\n",
    "\n",
    "# product_page\n",
    "tests['product_page'] = z_test(\n",
    "    funnel.loc['A', 'product_page'],\n",
    "    funnel.loc['A', 'total_users'],\n",
    "    funnel.loc['B', 'product_page'],\n",
    "    funnel.loc['B', 'total_users']\n",
    ")\n",
    "\n",
    "# product_cart\n",
    "tests['product_cart'] = z_test(\n",
    "    funnel.loc['A', 'product_cart'],\n",
    "    funnel.loc['A', 'total_users'],\n",
    "    funnel.loc['B', 'product_cart'],\n",
    "    funnel.loc['B', 'total_users']\n",
    ")\n",
    "\n",
    "# purchase\n",
    "tests['purchase'] = z_test(\n",
    "    funnel.loc['A', 'purchase'],\n",
    "    funnel.loc['A', 'total_users'],\n",
    "    funnel.loc['B', 'purchase'],\n",
    "    funnel.loc['B', 'total_users']\n",
    ")\n",
    "\n",
    "# Mostrar resultados\n",
    "for etapa, (z, p) in tests.items():\n",
    "    print(f'{etapa.upper()}: Z = {z}, p = {p}')\n"
   ]
  },
  {
   "cell_type": "markdown",
   "metadata": {},
   "source": [
    "## ✅ 8. Resultados del Test A/B – Z-Test para Proporciones\n",
    "\n",
    "| Etapa         | Z-Score | Valor p  | ¿Significativo? (α = 0.05) |\n",
    "|---------------|---------|----------|-----------------------------|\n",
    "| product_page  | 2.4176  | 0.0156   | ✅ Sí                       |\n",
    "| product_cart  | -1.4984 | 0.1340   | ❌ No                       |\n",
    "| purchase      | 1.9221  | 0.0546   | ❌ No (casi significativo)  |\n",
    "\n",
    "### 🧠 Interpretación\n",
    "\n",
    "- Solo la diferencia en la etapa de **product_page** es estadísticamente significativa (p < 0.05), lo que sugiere que el nuevo sistema de recomendaciones puede estar afectando positivamente esta etapa del embudo.\n",
    "- Las etapas de **product_cart** y **purchase** no muestran diferencias estadísticamente significativas, aunque la etapa de **purchase** está cerca del umbral.\n",
    "- Ninguna de las diferencias alcanza el **10% de mejora esperada** planteada como criterio de éxito.\n"
   ]
  },
  {
   "cell_type": "markdown",
   "metadata": {},
   "source": [
    "<div class=\"alert alert-block alert-warning\">\n",
    "<b>Comentario del revisor</b> <a class=\"tocSkip\"></a><br>\n",
    "\n",
    "<b>Atención</b> ⚠️ - El análisis es correcto, pero podrías fortalecer la visualización de los resultados con una tabla más formal o gráficos de barras para comparar visualmente conversiones y significancia. También podrías enfatizar que no se alcanzó el umbral del 10% en ninguna etapa.\n",
    "\n",
    "</div>"
   ]
  },
  {
   "cell_type": "markdown",
   "metadata": {},
   "source": [
    "## ✅ 9. Validación de Supuestos Estadísticos\n",
    "\n",
    "Antes de aplicar la prueba Z, se comprobaron los siguientes criterios:\n",
    "\n",
    "- ✔️ **Tamaño muestral suficiente**: ambos grupos superan las 5,000 observaciones, lo cual garantiza aproximación normal por el Teorema Central del Límite.\n",
    "- ✔️ **Independencia**: Se eliminaron usuarios duplicados (n=887) presentes en ambos grupos.\n",
    "- ⚠️ **Homogeneidad de varianza**: Considerada indirectamente en el uso de proporción combinada para la prueba Z. No hay evidencia clara de sesgo.\n",
    "\n",
    "🔍 Con base en estos puntos, aplicar una prueba Z es **metodológicamente válido** en este contexto.\n"
   ]
  },
  {
   "cell_type": "markdown",
   "metadata": {},
   "source": [
    "<div class=\"alert alert-block alert-success\">\n",
    "<b>Comentario del revisor</b> <a class=\"tocSkip\"></a><br>\n",
    "\n",
    "<b>Éxito</b> - Excelente que valides explícitamente los supuestos del test estadístico. Esto es una práctica avanzada que muchos omiten. Además, mencionas correctamente el Teorema Central del Límite y los supuestos de independencia.\n",
    "\n",
    "</div>"
   ]
  },
  {
   "cell_type": "markdown",
   "metadata": {},
   "source": [
    "## ✅ 10. Conclusiones Finales del Proyecto\n",
    "\n",
    "Realizamos un análisis de prueba A/B para evaluar si un nuevo sistema de recomendaciones mejoraba la conversión en las etapas `product_page → product_cart → purchase`.\n",
    "\n",
    "### 🔍 Hallazgos clave:\n",
    "\n",
    "- **product_page**: mejora significativa en visualizaciones de productos (Z = 2.42, p = 0.0156)\n",
    "- **product_cart**: sin diferencia significativa (p = 0.134)\n",
    "- **purchase**: casi significativa (p = 0.0546), pero no supera el umbral de 0.05 ni cumple con el +10% esperado.\n",
    "\n",
    "### 📉 Conclusión general:\n",
    "\n",
    "Aunque el sistema genera más visitas a productos, **no se traduce en mejoras en el embudo completo**. No se alcanzan los criterios definidos como éxito.\n",
    "\n",
    "### ✅ Recomendaciones:\n",
    "\n",
    "- 📈 Mejorar el algoritmo de recomendaciones con foco en conversión.\n",
    "- 🧪 Realizar una nueva prueba A/B con mayor muestra, duración y segmentación (por región/dispositivo).\n",
    "- 🧠 Complementar con análisis cualitativo para entender bloqueos en el embudo de conversión.\n"
   ]
  },
  {
   "cell_type": "markdown",
   "metadata": {},
   "source": [
    "<div class=\"alert alert-block alert-success\">\n",
    "<b>Comentario del revisor</b> <a class=\"tocSkip\"></a><br>\n",
    "\n",
    "<b>Éxito</b> - Conclusión clara y bien argumentada. Resumes con precisión los hallazgos y limitaciones. Las recomendaciones son razonables y demuestran pensamiento crítico. Muy profesional que incluyas sugerencias prácticas para mejorar el experimento.\n",
    "\n",
    "</div>"
   ]
  },
  {
   "cell_type": "markdown",
   "metadata": {},
   "source": [
    "## 📚 11. Fuentes y Documentación\n",
    "\n",
    "- Guía del proyecto final – TripleTen: [Notion Project Link](https://coding-bootcamps.notion.site/PROYECTO-FINAL-DATA-ANALYST-3fe741c1f13849d691b4afe136b68c72)\n",
    "- Pandas Documentation: https://pandas.pydata.org/docs/\n",
    "- Scipy Z-Test: https://docs.scipy.org/doc/scipy/reference/generated/scipy.stats.proportions_ztest.html\n",
    "- Matplotlib + Seaborn: Documentación oficial\n",
    "- Stack Overflow – Resolución de errores\n"
   ]
  },
  {
   "cell_type": "markdown",
   "metadata": {},
   "source": [
    "<div class=\"alert alert-block alert-success\">\n",
    "<b>Comentario del revisor</b> <a class=\"tocSkip\"></a><br>\n",
    "\n",
    "<b>Éxito</b> - Buena inclusión de enlaces útiles, lo cual refuerza la transparencia y facilita la reproducibilidad del trabajo. Es una práctica profesional que siempre suma puntos en reportes formales.\n",
    "\n",
    "</div>"
   ]
  },
  {
   "cell_type": "code",
   "execution_count": null,
   "metadata": {},
   "outputs": [],
   "source": []
  }
 ],
 "metadata": {
  "kernelspec": {
   "display_name": "Python 3 (ipykernel)",
   "language": "python",
   "name": "python3"
  },
  "language_info": {
   "codemirror_mode": {
    "name": "ipython",
    "version": 3
   },
   "file_extension": ".py",
   "mimetype": "text/x-python",
   "name": "python",
   "nbconvert_exporter": "python",
   "pygments_lexer": "ipython3",
   "version": "3.9.23"
  }
 },
 "nbformat": 4,
 "nbformat_minor": 4
}
